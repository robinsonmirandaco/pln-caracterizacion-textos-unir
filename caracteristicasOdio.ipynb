{
  "cells": [
    {
      "cell_type": "markdown",
      "metadata": {
        "id": "view-in-github",
        "colab_type": "text"
      },
      "source": [
        "<a href=\"https://colab.research.google.com/github/robinsonmirandaco/pln-caracterizacion-textos-unir/blob/main/caracteristicasOdio.ipynb\" target=\"_parent\"><img src=\"https://colab.research.google.com/assets/colab-badge.svg\" alt=\"Open In Colab\"/></a>"
      ]
    },
    {
      "cell_type": "markdown",
      "metadata": {
        "id": "rVGfeNovBkmM"
      },
      "source": [
        "**Universidad Internacional de La Rioja (UNIR) - Máster Universitario en Inteligencia Artificial - Procesamiento del Lenguaje Natural**"
      ]
    },
    {
      "cell_type": "markdown",
      "metadata": {
        "id": "6Rkjy8ICBkmP"
      },
      "source": [
        "***\n",
        "Datos del alumno (Nombre y Apellidos): Robinson José Miranda Pérez\n",
        "\n",
        "Fecha: 21/04/2025\n",
        "***"
      ]
    },
    {
      "cell_type": "markdown",
      "metadata": {
        "id": "QgkUqivZBkmQ"
      },
      "source": [
        "<span style=\"font-size: 20pt; font-weight: bold; color: #0098cd;\">Trabajo: Named-Entity Recognition</span>\n",
        "\n",
        "**Objetivos**\n",
        "\n",
        "Con esta actividad se tratará de que el alumno se familiarice con el manejo de la librería spacy, así como con los conceptos básicos de manejo de las técnicas NER\n",
        "\n",
        "**Descripción**\n",
        "\n",
        "En esta actividad debes procesar de forma automática un texto en lenguaje natural para detectar características básicas en el mismo, y para identificar y etiquetar las ocurrencias de conceptos como localización, moneda, empresas, etc.\n",
        "\n",
        "En la primera parte del ejercicio se proporciona un código fuente a través del cual se lee un archivo de texto y se realiza un preprocesado del mismo. En esta parte el alumno tan sólo debe ejecutar y entender el código proporcionado.\n",
        "\n",
        "En la segunda parte del ejercicio se plantean una serie de preguntas que deben ser respondidas por el alumno. Cada pregunta deberá responderse con un fragmento de código fuente que esté acompañado de la explicación correspondiente. Para elaborar el código solicitado, el alumno deberá visitar la documentación de la librería spacy, cuyos enlaces se proporcionarán donde corresponda."
      ]
    },
    {
      "cell_type": "markdown",
      "metadata": {
        "id": "KDvCqxZ6BkmR"
      },
      "source": [
        "# Parte 1: carga y preprocesamiento del texto a analizar"
      ]
    },
    {
      "cell_type": "markdown",
      "metadata": {
        "id": "NJQvabSQBkmS"
      },
      "source": [
        "Observa las diferentes librerías que se están importando."
      ]
    },
    {
      "cell_type": "code",
      "source": [
        "!pip install spacy\n",
        "!python -m spacy download es_core_news_md"
      ],
      "metadata": {
        "colab": {
          "base_uri": "https://localhost:8080/"
        },
        "id": "LYBapUAOByCl",
        "outputId": "e02c904e-362b-41ed-ec38-fc9ca25dacd1"
      },
      "execution_count": null,
      "outputs": [
        {
          "output_type": "stream",
          "name": "stdout",
          "text": [
            "Requirement already satisfied: spacy in /usr/local/lib/python3.11/dist-packages (3.8.5)\n",
            "Requirement already satisfied: spacy-legacy<3.1.0,>=3.0.11 in /usr/local/lib/python3.11/dist-packages (from spacy) (3.0.12)\n",
            "Requirement already satisfied: spacy-loggers<2.0.0,>=1.0.0 in /usr/local/lib/python3.11/dist-packages (from spacy) (1.0.5)\n",
            "Requirement already satisfied: murmurhash<1.1.0,>=0.28.0 in /usr/local/lib/python3.11/dist-packages (from spacy) (1.0.12)\n",
            "Requirement already satisfied: cymem<2.1.0,>=2.0.2 in /usr/local/lib/python3.11/dist-packages (from spacy) (2.0.11)\n",
            "Requirement already satisfied: preshed<3.1.0,>=3.0.2 in /usr/local/lib/python3.11/dist-packages (from spacy) (3.0.9)\n",
            "Requirement already satisfied: thinc<8.4.0,>=8.3.4 in /usr/local/lib/python3.11/dist-packages (from spacy) (8.3.6)\n",
            "Requirement already satisfied: wasabi<1.2.0,>=0.9.1 in /usr/local/lib/python3.11/dist-packages (from spacy) (1.1.3)\n",
            "Requirement already satisfied: srsly<3.0.0,>=2.4.3 in /usr/local/lib/python3.11/dist-packages (from spacy) (2.5.1)\n",
            "Requirement already satisfied: catalogue<2.1.0,>=2.0.6 in /usr/local/lib/python3.11/dist-packages (from spacy) (2.0.10)\n",
            "Requirement already satisfied: weasel<0.5.0,>=0.1.0 in /usr/local/lib/python3.11/dist-packages (from spacy) (0.4.1)\n",
            "Requirement already satisfied: typer<1.0.0,>=0.3.0 in /usr/local/lib/python3.11/dist-packages (from spacy) (0.15.2)\n",
            "Requirement already satisfied: tqdm<5.0.0,>=4.38.0 in /usr/local/lib/python3.11/dist-packages (from spacy) (4.67.1)\n",
            "Requirement already satisfied: numpy>=1.19.0 in /usr/local/lib/python3.11/dist-packages (from spacy) (2.0.2)\n",
            "Requirement already satisfied: requests<3.0.0,>=2.13.0 in /usr/local/lib/python3.11/dist-packages (from spacy) (2.32.3)\n",
            "Requirement already satisfied: pydantic!=1.8,!=1.8.1,<3.0.0,>=1.7.4 in /usr/local/lib/python3.11/dist-packages (from spacy) (2.11.3)\n",
            "Requirement already satisfied: jinja2 in /usr/local/lib/python3.11/dist-packages (from spacy) (3.1.6)\n",
            "Requirement already satisfied: setuptools in /usr/local/lib/python3.11/dist-packages (from spacy) (75.2.0)\n",
            "Requirement already satisfied: packaging>=20.0 in /usr/local/lib/python3.11/dist-packages (from spacy) (24.2)\n",
            "Requirement already satisfied: langcodes<4.0.0,>=3.2.0 in /usr/local/lib/python3.11/dist-packages (from spacy) (3.5.0)\n",
            "Requirement already satisfied: language-data>=1.2 in /usr/local/lib/python3.11/dist-packages (from langcodes<4.0.0,>=3.2.0->spacy) (1.3.0)\n",
            "Requirement already satisfied: annotated-types>=0.6.0 in /usr/local/lib/python3.11/dist-packages (from pydantic!=1.8,!=1.8.1,<3.0.0,>=1.7.4->spacy) (0.7.0)\n",
            "Requirement already satisfied: pydantic-core==2.33.1 in /usr/local/lib/python3.11/dist-packages (from pydantic!=1.8,!=1.8.1,<3.0.0,>=1.7.4->spacy) (2.33.1)\n",
            "Requirement already satisfied: typing-extensions>=4.12.2 in /usr/local/lib/python3.11/dist-packages (from pydantic!=1.8,!=1.8.1,<3.0.0,>=1.7.4->spacy) (4.13.2)\n",
            "Requirement already satisfied: typing-inspection>=0.4.0 in /usr/local/lib/python3.11/dist-packages (from pydantic!=1.8,!=1.8.1,<3.0.0,>=1.7.4->spacy) (0.4.0)\n",
            "Requirement already satisfied: charset-normalizer<4,>=2 in /usr/local/lib/python3.11/dist-packages (from requests<3.0.0,>=2.13.0->spacy) (3.4.1)\n",
            "Requirement already satisfied: idna<4,>=2.5 in /usr/local/lib/python3.11/dist-packages (from requests<3.0.0,>=2.13.0->spacy) (3.10)\n",
            "Requirement already satisfied: urllib3<3,>=1.21.1 in /usr/local/lib/python3.11/dist-packages (from requests<3.0.0,>=2.13.0->spacy) (2.3.0)\n",
            "Requirement already satisfied: certifi>=2017.4.17 in /usr/local/lib/python3.11/dist-packages (from requests<3.0.0,>=2.13.0->spacy) (2025.1.31)\n",
            "Requirement already satisfied: blis<1.4.0,>=1.3.0 in /usr/local/lib/python3.11/dist-packages (from thinc<8.4.0,>=8.3.4->spacy) (1.3.0)\n",
            "Requirement already satisfied: confection<1.0.0,>=0.0.1 in /usr/local/lib/python3.11/dist-packages (from thinc<8.4.0,>=8.3.4->spacy) (0.1.5)\n",
            "Requirement already satisfied: click>=8.0.0 in /usr/local/lib/python3.11/dist-packages (from typer<1.0.0,>=0.3.0->spacy) (8.1.8)\n",
            "Requirement already satisfied: shellingham>=1.3.0 in /usr/local/lib/python3.11/dist-packages (from typer<1.0.0,>=0.3.0->spacy) (1.5.4)\n",
            "Requirement already satisfied: rich>=10.11.0 in /usr/local/lib/python3.11/dist-packages (from typer<1.0.0,>=0.3.0->spacy) (13.9.4)\n",
            "Requirement already satisfied: cloudpathlib<1.0.0,>=0.7.0 in /usr/local/lib/python3.11/dist-packages (from weasel<0.5.0,>=0.1.0->spacy) (0.21.0)\n",
            "Requirement already satisfied: smart-open<8.0.0,>=5.2.1 in /usr/local/lib/python3.11/dist-packages (from weasel<0.5.0,>=0.1.0->spacy) (7.1.0)\n",
            "Requirement already satisfied: MarkupSafe>=2.0 in /usr/local/lib/python3.11/dist-packages (from jinja2->spacy) (3.0.2)\n",
            "Requirement already satisfied: marisa-trie>=1.1.0 in /usr/local/lib/python3.11/dist-packages (from language-data>=1.2->langcodes<4.0.0,>=3.2.0->spacy) (1.2.1)\n",
            "Requirement already satisfied: markdown-it-py>=2.2.0 in /usr/local/lib/python3.11/dist-packages (from rich>=10.11.0->typer<1.0.0,>=0.3.0->spacy) (3.0.0)\n",
            "Requirement already satisfied: pygments<3.0.0,>=2.13.0 in /usr/local/lib/python3.11/dist-packages (from rich>=10.11.0->typer<1.0.0,>=0.3.0->spacy) (2.18.0)\n",
            "Requirement already satisfied: wrapt in /usr/local/lib/python3.11/dist-packages (from smart-open<8.0.0,>=5.2.1->weasel<0.5.0,>=0.1.0->spacy) (1.17.2)\n",
            "Requirement already satisfied: mdurl~=0.1 in /usr/local/lib/python3.11/dist-packages (from markdown-it-py>=2.2.0->rich>=10.11.0->typer<1.0.0,>=0.3.0->spacy) (0.1.2)\n",
            "Collecting es-core-news-md==3.8.0\n",
            "  Downloading https://github.com/explosion/spacy-models/releases/download/es_core_news_md-3.8.0/es_core_news_md-3.8.0-py3-none-any.whl (42.3 MB)\n",
            "\u001b[2K     \u001b[90m━━━━━━━━━━━━━━━━━━━━━━━━━━━━━━━━━━━━━━━━\u001b[0m \u001b[32m42.3/42.3 MB\u001b[0m \u001b[31m12.8 MB/s\u001b[0m eta \u001b[36m0:00:00\u001b[0m\n",
            "\u001b[?25hInstalling collected packages: es-core-news-md\n",
            "Successfully installed es-core-news-md-3.8.0\n",
            "\u001b[38;5;2m✔ Download and installation successful\u001b[0m\n",
            "You can now load the package via spacy.load('es_core_news_md')\n",
            "\u001b[38;5;3m⚠ Restart to reload dependencies\u001b[0m\n",
            "If you are in a Jupyter or Colab notebook, you may need to restart Python in\n",
            "order to load all the package's dependencies. You can do this by selecting the\n",
            "'Restart kernel' or 'Restart runtime' option.\n"
          ]
        }
      ]
    },
    {
      "cell_type": "code",
      "execution_count": null,
      "metadata": {
        "id": "1-RiB_ltBkmS"
      },
      "outputs": [],
      "source": [
        "import pathlib\n",
        "import spacy\n",
        "import pandas as pd\n",
        "from spacy import displacy\n",
        "import csv\n",
        "import es_core_news_md"
      ]
    },
    {
      "cell_type": "markdown",
      "metadata": {
        "id": "KqWuWXFDBkmV"
      },
      "source": [
        "El siguiente código simplemente carga y preprocesa el texto. Para ello, lo primero que hace es cargar un modelo de lenguaje previamente entrenado. En este caso, se utiliza <i>es_core_news_md</i>:\n",
        "\n",
        "https://spacy.io/models/es#es_core_news_md\n"
      ]
    },
    {
      "cell_type": "code",
      "execution_count": null,
      "metadata": {
        "id": "Tu4jtYs9BkmV"
      },
      "outputs": [],
      "source": [
        "nlp = es_core_news_md.load()"
      ]
    },
    {
      "cell_type": "markdown",
      "metadata": {
        "id": "Cp2XV0OPBkmV"
      },
      "source": [
        "El objeto <i>nlp</i> permite utilizar el modelo de lenguaje cargado, de forma que se puede procesar un texto y obtenerlo en su versión preprocesada. Así, nos permite realizar las diferentes tareas. En este caso, vamos a utilizar el pipeline para hacer un preprocesamiento básico, que consiste en tokenizar el texto."
      ]
    },
    {
      "cell_type": "code",
      "execution_count": null,
      "metadata": {
        "colab": {
          "base_uri": "https://localhost:8080/",
          "height": 678
        },
        "id": "c2_wKOLZBkmW",
        "outputId": "b335b10d-1f12-4ba3-8775-10ce91237f79"
      },
      "outputs": [
        {
          "output_type": "stream",
          "name": "stderr",
          "text": [
            "<ipython-input-4-625eae2e1f4b>:2: DtypeWarning: Columns (5,6,7,8,9,10,11,12,13,14) have mixed types. Specify dtype option on import or set low_memory=False.\n",
            "  data = pd.read_csv(filename, delimiter=';', encoding='latin1')\n"
          ]
        },
        {
          "output_type": "execute_result",
          "data": {
            "text/plain": [
              "       MEDIO SOPORTE                                                URL  \\\n",
              "0  EL PAÃS      WEB  https://elpais.com/deportes/2021-01-20/alcoyan...   \n",
              "1  EL PAÃS      WEB  https://elpais.com/deportes/2021-01-20/alcoyan...   \n",
              "2  EL PAÃS      WEB  https://elpais.com/espana/2021-01-18/comienza-...   \n",
              "3  EL PAÃS      WEB  https://elpais.com/espana/2021-01-18/comienza-...   \n",
              "4  EL PAÃS      WEB  https://elpais.com/espana/2021-01-18/comienza-...   \n",
              "\n",
              "  TIPO DE MENSAJE                               CONTENIDO A ANALIZAR  \\\n",
              "0      COMENTARIO  el barÃ§a nunca acaeza ante un segundo b ni an...   \n",
              "1      COMENTARIO  el real madrid ha puesto punto y final a su an...   \n",
              "2      COMENTARIO  cristina cifuentes podrÃ­a haber sido la presi...   \n",
              "3      COMENTARIO  habrÃ­a que reabrir el caso. el supremo se ded...   \n",
              "4      COMENTARIO  me parece un poco exagerado pedir mÃ¡s de tres...   \n",
              "\n",
              "  INTENSIDAD TIPO DE ODIO TONO HUMORISTICO MODIFICADOR Unnamed: 9 Unnamed: 10  \\\n",
              "0        3.0        Otros              NaN         NaN        NaN         NaN   \n",
              "1        0.0          NaN              NaN         NaN        NaN         NaN   \n",
              "2        3.0  IdeolÃ³gico              NaN         NaN        NaN         NaN   \n",
              "3        3.0  IdeolÃ³gico              NaN         NaN        NaN         NaN   \n",
              "4        3.0  IdeolÃ³gico               Si         NaN        NaN         NaN   \n",
              "\n",
              "  Unnamed: 11 Unnamed: 12 Unnamed: 13 Unnamed: 14  Unnamed: 15  \n",
              "0         NaN         NaN         NaN         NaN          NaN  \n",
              "1         NaN         NaN         NaN         NaN          NaN  \n",
              "2         NaN         NaN         NaN         NaN          NaN  \n",
              "3         NaN         NaN         NaN         NaN          NaN  \n",
              "4         NaN         NaN         NaN         NaN          NaN  "
            ],
            "text/html": [
              "\n",
              "  <div id=\"df-f480287f-32df-41aa-b03c-14a047d27ec4\" class=\"colab-df-container\">\n",
              "    <div>\n",
              "<style scoped>\n",
              "    .dataframe tbody tr th:only-of-type {\n",
              "        vertical-align: middle;\n",
              "    }\n",
              "\n",
              "    .dataframe tbody tr th {\n",
              "        vertical-align: top;\n",
              "    }\n",
              "\n",
              "    .dataframe thead th {\n",
              "        text-align: right;\n",
              "    }\n",
              "</style>\n",
              "<table border=\"1\" class=\"dataframe\">\n",
              "  <thead>\n",
              "    <tr style=\"text-align: right;\">\n",
              "      <th></th>\n",
              "      <th>MEDIO</th>\n",
              "      <th>SOPORTE</th>\n",
              "      <th>URL</th>\n",
              "      <th>TIPO DE MENSAJE</th>\n",
              "      <th>CONTENIDO A ANALIZAR</th>\n",
              "      <th>INTENSIDAD</th>\n",
              "      <th>TIPO DE ODIO</th>\n",
              "      <th>TONO HUMORISTICO</th>\n",
              "      <th>MODIFICADOR</th>\n",
              "      <th>Unnamed: 9</th>\n",
              "      <th>Unnamed: 10</th>\n",
              "      <th>Unnamed: 11</th>\n",
              "      <th>Unnamed: 12</th>\n",
              "      <th>Unnamed: 13</th>\n",
              "      <th>Unnamed: 14</th>\n",
              "      <th>Unnamed: 15</th>\n",
              "    </tr>\n",
              "  </thead>\n",
              "  <tbody>\n",
              "    <tr>\n",
              "      <th>0</th>\n",
              "      <td>EL PAÃS</td>\n",
              "      <td>WEB</td>\n",
              "      <td>https://elpais.com/deportes/2021-01-20/alcoyan...</td>\n",
              "      <td>COMENTARIO</td>\n",
              "      <td>el barÃ§a nunca acaeza ante un segundo b ni an...</td>\n",
              "      <td>3.0</td>\n",
              "      <td>Otros</td>\n",
              "      <td>NaN</td>\n",
              "      <td>NaN</td>\n",
              "      <td>NaN</td>\n",
              "      <td>NaN</td>\n",
              "      <td>NaN</td>\n",
              "      <td>NaN</td>\n",
              "      <td>NaN</td>\n",
              "      <td>NaN</td>\n",
              "      <td>NaN</td>\n",
              "    </tr>\n",
              "    <tr>\n",
              "      <th>1</th>\n",
              "      <td>EL PAÃS</td>\n",
              "      <td>WEB</td>\n",
              "      <td>https://elpais.com/deportes/2021-01-20/alcoyan...</td>\n",
              "      <td>COMENTARIO</td>\n",
              "      <td>el real madrid ha puesto punto y final a su an...</td>\n",
              "      <td>0.0</td>\n",
              "      <td>NaN</td>\n",
              "      <td>NaN</td>\n",
              "      <td>NaN</td>\n",
              "      <td>NaN</td>\n",
              "      <td>NaN</td>\n",
              "      <td>NaN</td>\n",
              "      <td>NaN</td>\n",
              "      <td>NaN</td>\n",
              "      <td>NaN</td>\n",
              "      <td>NaN</td>\n",
              "    </tr>\n",
              "    <tr>\n",
              "      <th>2</th>\n",
              "      <td>EL PAÃS</td>\n",
              "      <td>WEB</td>\n",
              "      <td>https://elpais.com/espana/2021-01-18/comienza-...</td>\n",
              "      <td>COMENTARIO</td>\n",
              "      <td>cristina cifuentes podrÃ­a haber sido la presi...</td>\n",
              "      <td>3.0</td>\n",
              "      <td>IdeolÃ³gico</td>\n",
              "      <td>NaN</td>\n",
              "      <td>NaN</td>\n",
              "      <td>NaN</td>\n",
              "      <td>NaN</td>\n",
              "      <td>NaN</td>\n",
              "      <td>NaN</td>\n",
              "      <td>NaN</td>\n",
              "      <td>NaN</td>\n",
              "      <td>NaN</td>\n",
              "    </tr>\n",
              "    <tr>\n",
              "      <th>3</th>\n",
              "      <td>EL PAÃS</td>\n",
              "      <td>WEB</td>\n",
              "      <td>https://elpais.com/espana/2021-01-18/comienza-...</td>\n",
              "      <td>COMENTARIO</td>\n",
              "      <td>habrÃ­a que reabrir el caso. el supremo se ded...</td>\n",
              "      <td>3.0</td>\n",
              "      <td>IdeolÃ³gico</td>\n",
              "      <td>NaN</td>\n",
              "      <td>NaN</td>\n",
              "      <td>NaN</td>\n",
              "      <td>NaN</td>\n",
              "      <td>NaN</td>\n",
              "      <td>NaN</td>\n",
              "      <td>NaN</td>\n",
              "      <td>NaN</td>\n",
              "      <td>NaN</td>\n",
              "    </tr>\n",
              "    <tr>\n",
              "      <th>4</th>\n",
              "      <td>EL PAÃS</td>\n",
              "      <td>WEB</td>\n",
              "      <td>https://elpais.com/espana/2021-01-18/comienza-...</td>\n",
              "      <td>COMENTARIO</td>\n",
              "      <td>me parece un poco exagerado pedir mÃ¡s de tres...</td>\n",
              "      <td>3.0</td>\n",
              "      <td>IdeolÃ³gico</td>\n",
              "      <td>Si</td>\n",
              "      <td>NaN</td>\n",
              "      <td>NaN</td>\n",
              "      <td>NaN</td>\n",
              "      <td>NaN</td>\n",
              "      <td>NaN</td>\n",
              "      <td>NaN</td>\n",
              "      <td>NaN</td>\n",
              "      <td>NaN</td>\n",
              "    </tr>\n",
              "  </tbody>\n",
              "</table>\n",
              "</div>\n",
              "    <div class=\"colab-df-buttons\">\n",
              "\n",
              "  <div class=\"colab-df-container\">\n",
              "    <button class=\"colab-df-convert\" onclick=\"convertToInteractive('df-f480287f-32df-41aa-b03c-14a047d27ec4')\"\n",
              "            title=\"Convert this dataframe to an interactive table.\"\n",
              "            style=\"display:none;\">\n",
              "\n",
              "  <svg xmlns=\"http://www.w3.org/2000/svg\" height=\"24px\" viewBox=\"0 -960 960 960\">\n",
              "    <path d=\"M120-120v-720h720v720H120Zm60-500h600v-160H180v160Zm220 220h160v-160H400v160Zm0 220h160v-160H400v160ZM180-400h160v-160H180v160Zm440 0h160v-160H620v160ZM180-180h160v-160H180v160Zm440 0h160v-160H620v160Z\"/>\n",
              "  </svg>\n",
              "    </button>\n",
              "\n",
              "  <style>\n",
              "    .colab-df-container {\n",
              "      display:flex;\n",
              "      gap: 12px;\n",
              "    }\n",
              "\n",
              "    .colab-df-convert {\n",
              "      background-color: #E8F0FE;\n",
              "      border: none;\n",
              "      border-radius: 50%;\n",
              "      cursor: pointer;\n",
              "      display: none;\n",
              "      fill: #1967D2;\n",
              "      height: 32px;\n",
              "      padding: 0 0 0 0;\n",
              "      width: 32px;\n",
              "    }\n",
              "\n",
              "    .colab-df-convert:hover {\n",
              "      background-color: #E2EBFA;\n",
              "      box-shadow: 0px 1px 2px rgba(60, 64, 67, 0.3), 0px 1px 3px 1px rgba(60, 64, 67, 0.15);\n",
              "      fill: #174EA6;\n",
              "    }\n",
              "\n",
              "    .colab-df-buttons div {\n",
              "      margin-bottom: 4px;\n",
              "    }\n",
              "\n",
              "    [theme=dark] .colab-df-convert {\n",
              "      background-color: #3B4455;\n",
              "      fill: #D2E3FC;\n",
              "    }\n",
              "\n",
              "    [theme=dark] .colab-df-convert:hover {\n",
              "      background-color: #434B5C;\n",
              "      box-shadow: 0px 1px 3px 1px rgba(0, 0, 0, 0.15);\n",
              "      filter: drop-shadow(0px 1px 2px rgba(0, 0, 0, 0.3));\n",
              "      fill: #FFFFFF;\n",
              "    }\n",
              "  </style>\n",
              "\n",
              "    <script>\n",
              "      const buttonEl =\n",
              "        document.querySelector('#df-f480287f-32df-41aa-b03c-14a047d27ec4 button.colab-df-convert');\n",
              "      buttonEl.style.display =\n",
              "        google.colab.kernel.accessAllowed ? 'block' : 'none';\n",
              "\n",
              "      async function convertToInteractive(key) {\n",
              "        const element = document.querySelector('#df-f480287f-32df-41aa-b03c-14a047d27ec4');\n",
              "        const dataTable =\n",
              "          await google.colab.kernel.invokeFunction('convertToInteractive',\n",
              "                                                    [key], {});\n",
              "        if (!dataTable) return;\n",
              "\n",
              "        const docLinkHtml = 'Like what you see? Visit the ' +\n",
              "          '<a target=\"_blank\" href=https://colab.research.google.com/notebooks/data_table.ipynb>data table notebook</a>'\n",
              "          + ' to learn more about interactive tables.';\n",
              "        element.innerHTML = '';\n",
              "        dataTable['output_type'] = 'display_data';\n",
              "        await google.colab.output.renderOutput(dataTable, element);\n",
              "        const docLink = document.createElement('div');\n",
              "        docLink.innerHTML = docLinkHtml;\n",
              "        element.appendChild(docLink);\n",
              "      }\n",
              "    </script>\n",
              "  </div>\n",
              "\n",
              "\n",
              "<div id=\"df-c92bccdf-69bc-4167-84da-6548bea79957\">\n",
              "  <button class=\"colab-df-quickchart\" onclick=\"quickchart('df-c92bccdf-69bc-4167-84da-6548bea79957')\"\n",
              "            title=\"Suggest charts\"\n",
              "            style=\"display:none;\">\n",
              "\n",
              "<svg xmlns=\"http://www.w3.org/2000/svg\" height=\"24px\"viewBox=\"0 0 24 24\"\n",
              "     width=\"24px\">\n",
              "    <g>\n",
              "        <path d=\"M19 3H5c-1.1 0-2 .9-2 2v14c0 1.1.9 2 2 2h14c1.1 0 2-.9 2-2V5c0-1.1-.9-2-2-2zM9 17H7v-7h2v7zm4 0h-2V7h2v10zm4 0h-2v-4h2v4z\"/>\n",
              "    </g>\n",
              "</svg>\n",
              "  </button>\n",
              "\n",
              "<style>\n",
              "  .colab-df-quickchart {\n",
              "      --bg-color: #E8F0FE;\n",
              "      --fill-color: #1967D2;\n",
              "      --hover-bg-color: #E2EBFA;\n",
              "      --hover-fill-color: #174EA6;\n",
              "      --disabled-fill-color: #AAA;\n",
              "      --disabled-bg-color: #DDD;\n",
              "  }\n",
              "\n",
              "  [theme=dark] .colab-df-quickchart {\n",
              "      --bg-color: #3B4455;\n",
              "      --fill-color: #D2E3FC;\n",
              "      --hover-bg-color: #434B5C;\n",
              "      --hover-fill-color: #FFFFFF;\n",
              "      --disabled-bg-color: #3B4455;\n",
              "      --disabled-fill-color: #666;\n",
              "  }\n",
              "\n",
              "  .colab-df-quickchart {\n",
              "    background-color: var(--bg-color);\n",
              "    border: none;\n",
              "    border-radius: 50%;\n",
              "    cursor: pointer;\n",
              "    display: none;\n",
              "    fill: var(--fill-color);\n",
              "    height: 32px;\n",
              "    padding: 0;\n",
              "    width: 32px;\n",
              "  }\n",
              "\n",
              "  .colab-df-quickchart:hover {\n",
              "    background-color: var(--hover-bg-color);\n",
              "    box-shadow: 0 1px 2px rgba(60, 64, 67, 0.3), 0 1px 3px 1px rgba(60, 64, 67, 0.15);\n",
              "    fill: var(--button-hover-fill-color);\n",
              "  }\n",
              "\n",
              "  .colab-df-quickchart-complete:disabled,\n",
              "  .colab-df-quickchart-complete:disabled:hover {\n",
              "    background-color: var(--disabled-bg-color);\n",
              "    fill: var(--disabled-fill-color);\n",
              "    box-shadow: none;\n",
              "  }\n",
              "\n",
              "  .colab-df-spinner {\n",
              "    border: 2px solid var(--fill-color);\n",
              "    border-color: transparent;\n",
              "    border-bottom-color: var(--fill-color);\n",
              "    animation:\n",
              "      spin 1s steps(1) infinite;\n",
              "  }\n",
              "\n",
              "  @keyframes spin {\n",
              "    0% {\n",
              "      border-color: transparent;\n",
              "      border-bottom-color: var(--fill-color);\n",
              "      border-left-color: var(--fill-color);\n",
              "    }\n",
              "    20% {\n",
              "      border-color: transparent;\n",
              "      border-left-color: var(--fill-color);\n",
              "      border-top-color: var(--fill-color);\n",
              "    }\n",
              "    30% {\n",
              "      border-color: transparent;\n",
              "      border-left-color: var(--fill-color);\n",
              "      border-top-color: var(--fill-color);\n",
              "      border-right-color: var(--fill-color);\n",
              "    }\n",
              "    40% {\n",
              "      border-color: transparent;\n",
              "      border-right-color: var(--fill-color);\n",
              "      border-top-color: var(--fill-color);\n",
              "    }\n",
              "    60% {\n",
              "      border-color: transparent;\n",
              "      border-right-color: var(--fill-color);\n",
              "    }\n",
              "    80% {\n",
              "      border-color: transparent;\n",
              "      border-right-color: var(--fill-color);\n",
              "      border-bottom-color: var(--fill-color);\n",
              "    }\n",
              "    90% {\n",
              "      border-color: transparent;\n",
              "      border-bottom-color: var(--fill-color);\n",
              "    }\n",
              "  }\n",
              "</style>\n",
              "\n",
              "  <script>\n",
              "    async function quickchart(key) {\n",
              "      const quickchartButtonEl =\n",
              "        document.querySelector('#' + key + ' button');\n",
              "      quickchartButtonEl.disabled = true;  // To prevent multiple clicks.\n",
              "      quickchartButtonEl.classList.add('colab-df-spinner');\n",
              "      try {\n",
              "        const charts = await google.colab.kernel.invokeFunction(\n",
              "            'suggestCharts', [key], {});\n",
              "      } catch (error) {\n",
              "        console.error('Error during call to suggestCharts:', error);\n",
              "      }\n",
              "      quickchartButtonEl.classList.remove('colab-df-spinner');\n",
              "      quickchartButtonEl.classList.add('colab-df-quickchart-complete');\n",
              "    }\n",
              "    (() => {\n",
              "      let quickchartButtonEl =\n",
              "        document.querySelector('#df-c92bccdf-69bc-4167-84da-6548bea79957 button');\n",
              "      quickchartButtonEl.style.display =\n",
              "        google.colab.kernel.accessAllowed ? 'block' : 'none';\n",
              "    })();\n",
              "  </script>\n",
              "</div>\n",
              "\n",
              "    </div>\n",
              "  </div>\n"
            ],
            "application/vnd.google.colaboratory.intrinsic+json": {
              "type": "dataframe",
              "variable_name": "data"
            }
          },
          "metadata": {},
          "execution_count": 4
        }
      ],
      "source": [
        "filename = \"/content/02Dataset_sin_procesar.csv\"\n",
        "data = pd.read_csv(filename, delimiter=';', encoding='latin1')\n",
        "data.head()"
      ]
    },
    {
      "cell_type": "markdown",
      "metadata": {
        "id": "k8sk6yl2BkmW"
      },
      "source": [
        "El código anterior carga el archivo CSV (opcionalmente con un límite de líneas a leer) y genera la variable <i>data</i>, que contiene un Dataframe (https://pandas.pydata.org/docs/reference/api/pandas.DataFrame.html) con los datos leídos del CSV."
      ]
    },
    {
      "cell_type": "markdown",
      "metadata": {
        "id": "GPh3DJLCBkmW"
      },
      "source": [
        "Te vendrá bien conocer la siguiente documentación:\n",
        "<ul>\n",
        "    <li>https://spacy.io/api/doc</li>\n",
        "    <li>https://spacy.io/api/token</li>\n",
        "    <li>https://spacy.io/api/morphology#morphanalysis</li>\n",
        "</ul>"
      ]
    },
    {
      "cell_type": "markdown",
      "metadata": {
        "id": "4s8KG0VfBkmW"
      },
      "source": [
        "### Playground\n",
        "\n",
        "Utiliza este espacio para hacer pruebas y ensayos con las variables generadas con el código previo. A modo de ejemplo, se ofrece código que realiza las siguientes tareas:\n",
        "\n",
        "\n",
        "- leer un número dado de líneas del Dataframe y generar dos listas con los valores (se pueden leer directamente del DataFrame, se muestra el ejemplo como una opción más)\n",
        "- procesar el texto de cada comentario\n",
        "\n",
        "\n",
        "Para procesarlo, hay utilizar el objeto <i>nlp</i> y así obtener objetos de la clase <i>Doc</i> (https://spacy.io/api/doc)\n",
        "\n",
        "Visita la documentación de dicha clase y experimenta probando las diferentes funciones y atributos"
      ]
    },
    {
      "cell_type": "code",
      "execution_count": null,
      "metadata": {
        "id": "TSuiYvShBkmX"
      },
      "outputs": [],
      "source": [
        "# Puedes insertar aquí código de pruebas para experimentar con las diferentes funciones y atributos de 'doc'.\n",
        "#print(data[\"CONTENIDO A ANALIZAR\"][1])\n",
        "#print(data[\"INTENSIDAD\"][1])\n",
        "doc = []\n",
        "value = []\n",
        "\n",
        "#con el bucle, generamos sendas listas con los comentarios ya parseados y con el valor de intensidad\n",
        "for i in range(0, lines_number):\n",
        "\n",
        "    #en un primer paso se parsea el comentario. En el segundo paso se añade el objeto a la lista\n",
        "    tmp_doc = nlp(data[\"CONTENIDO A ANALIZAR\"][i])\n",
        "    doc.append(tmp_doc)\n",
        "\n",
        "    #en un primer paso extrae el valor. En el segundo paso se añade el valor a la lista\n",
        "    tmp_value = data[\"INTENSIDAD\"][i]\n",
        "    value.append(tmp_value)\n",
        "\n",
        "\n",
        "#ejemplo de cómo recorrer un comentario palabra por palabra\n",
        "for token in doc[1]:\n",
        "    print(token)"
      ]
    },
    {
      "cell_type": "markdown",
      "metadata": {
        "id": "llU5wAbXBkmX"
      },
      "source": [
        "<span style=\"font-size: 14pt; font-weight: bold; color: #0098cd;\">Pregunta 1.</span>\n",
        "<span style=\"font-size: 14pt; font-weight: bold; color: #0098cd;\">¿Cuántos registros contiene el corpus?</span>"
      ]
    },
    {
      "cell_type": "code",
      "execution_count": null,
      "metadata": {
        "colab": {
          "base_uri": "https://localhost:8080/"
        },
        "id": "b_C0Z0vFBkmX",
        "outputId": "f7403497-4a8d-41cc-854b-7959867f78fb"
      },
      "outputs": [
        {
          "output_type": "stream",
          "name": "stdout",
          "text": [
            "Número total de registros en el corpus: 574915\n"
          ]
        }
      ],
      "source": [
        "# Incluye aquí el código generado para poder responder a tu pregunta\n",
        "# Contar cuántos registros (filas) tiene el corpus\n",
        "num_registros = len(data)\n",
        "print(f\"Número total de registros en el corpus: {num_registros}\")"
      ]
    },
    {
      "cell_type": "markdown",
      "metadata": {
        "id": "pQEWl5E7BkmX"
      },
      "source": [
        "<b>Incluye aquí, debajo de la línea, la explicación de tu respuesta</b>\n",
        "<hr>\n",
        "\n",
        "\n",
        "*   Utilicé la funcion Len() (*Está funcion sirve para contar el número de registros que tiene el dataset, es decir cuántos comentarios hay en total*) sobre el DataFrame cargado como: (02Dataset_sin_procesar.csv).\n",
        "*   El archivo ya contiene los mensajes y sus etiquetas de intensidad.\n",
        "\n",
        "El resultado fue = **574.915** registros, espero este sea el resultado ya que dudé si el dataset habia sido cargado correctamente al principio en google Colab. Luego este número me dio un poco de tranquilidad."
      ]
    },
    {
      "cell_type": "markdown",
      "metadata": {
        "id": "6jPmEjoOBkmX"
      },
      "source": [
        "<span style=\"font-size: 14pt; font-weight: bold; color: #0098cd;\">Pregunta 2.</span>\n",
        "<span style=\"font-size: 14pt; font-weight: bold; color: #0098cd;\">¿Cuántas palabras totales hay en los comentarios del corpus?</span>"
      ]
    },
    {
      "cell_type": "code",
      "execution_count": null,
      "metadata": {
        "colab": {
          "base_uri": "https://localhost:8080/"
        },
        "id": "_LxE53YyBkmY",
        "outputId": "c0f6e92d-1041-4e3f-fdcb-49b465f77a06"
      },
      "outputs": [
        {
          "output_type": "stream",
          "name": "stdout",
          "text": [
            "Estimación del número total de palabras en el corpus: 66104426\n"
          ]
        }
      ],
      "source": [
        "# Incluye aquí el código generado para poder responder a tu pregunta\n",
        "# Seleccionamos una muestra aleatoria del 0.5% del corpus\n",
        "muestra = data.sample(frac=0.005, random_state=42)\n",
        "\n",
        "total_palabras_muestra = 0\n",
        "\n",
        "# Contar solo palabras reales en cada comentario de la muestra\n",
        "for texto in muestra[\"CONTENIDO A ANALIZAR\"]:\n",
        "    doc = nlp(str(texto))\n",
        "    total_palabras_muestra += len([token for token in doc if not token.is_punct and not token.is_space])\n",
        "\n",
        "# Escalar la cantidad de palabras al tamaño total del corpus\n",
        "estimado_total_palabras = int(total_palabras_muestra * (len(data) / len(muestra)))\n",
        "\n",
        "print(f\"Estimación del número total de palabras en el corpus: {estimado_total_palabras}\")"
      ]
    },
    {
      "cell_type": "markdown",
      "metadata": {
        "id": "sBvv-kKxBkmY"
      },
      "source": [
        "<b>Incluye aquí, debajo de la línea, la explicación de tu respuesta</b>\n",
        "<hr>\n",
        "\n",
        "\n",
        "*   Seleccione el 0.5% de los registros y utilice el párametro random_state=42 para asegurar que siempre se retorna la misma muestra, esto con el proposito de que los resultados sean reproducibles.\n",
        "*   Después, Conté el número de palabras reales de cada comentario de la muestra seleccionada, para esto Utilicé spaCy y descarté signos de puntuación y espacios en blanco.\n",
        "*   Al final utilicé una técnica de extrapolación que consitió en escalar el tamaño del corpus para estimar cuántas palabras habría si analizara todos los comentarios. Esta técnica la aprendí en un bootcamp de Datasicence la cuál permite obtener un valor aproximado sin tener que procesarlos 574.915 registros uno por uno.\n",
        "\n",
        "La estimación del número total de palabras del corpues fue: **66.104.426**\n",
        "\n",
        "\n",
        "\n",
        "\n"
      ]
    },
    {
      "cell_type": "markdown",
      "metadata": {
        "id": "fB9d7KJsBkmY"
      },
      "source": [
        "<span style=\"font-size: 14pt; font-weight: bold; color: #0098cd;\">Pregunta 3.</span>\n",
        "<span style=\"font-size: 14pt; font-weight: bold; color: #0098cd;\">¿Cuál el número promedio de palabras en cada comentario?</span>"
      ]
    },
    {
      "cell_type": "code",
      "execution_count": null,
      "metadata": {
        "colab": {
          "base_uri": "https://localhost:8080/"
        },
        "id": "GQdczbU_BkmY",
        "outputId": "c3401068-0e6b-4213-cf6f-f5825db24538"
      },
      "outputs": [
        {
          "output_type": "stream",
          "name": "stdout",
          "text": [
            "Número promedio de palabras por comentario: 114.98\n"
          ]
        }
      ],
      "source": [
        "# Incluye aquí el código generado para poder responder a tu pregunta\n",
        "# Usamos el total estimado de palabras de la Pregunta 2\n",
        "estimado_total_palabras = 66104426\n",
        "total_comentarios = len(data)\n",
        "\n",
        "# Cálculo del promedio\n",
        "promedio_palabras = estimado_total_palabras / total_comentarios\n",
        "\n",
        "print(f\"Número promedio de palabras por comentario: {promedio_palabras:.2f}\")"
      ]
    },
    {
      "cell_type": "markdown",
      "metadata": {
        "id": "PccEIycbBkmY"
      },
      "source": [
        "<b>Incluye aquí, debajo de la línea, la explicación de tu respuesta</b>\n",
        "<hr>\n",
        "\n",
        "\n",
        "*   Para calcular el promedio de palabras por cada comentario utilice el estimado total de palabras que contiene el corpus: 66.194.426, para hacer una división  entre el numero total de comentarios: *estimado_total_palabras/len(data).*\n",
        "*   Este cálculo sirve como referencia general para entender la dimensión del corpus y su variación en la longitud textual a lo largo del análisis.\n",
        "\n",
        "El resultado fue = **114.98** palabras por comentario\n",
        "\n"
      ]
    },
    {
      "cell_type": "markdown",
      "metadata": {
        "id": "26eIT6PgBkmY"
      },
      "source": [
        "<span style=\"font-size: 14pt; font-weight: bold; color: #0098cd;\">Pregunta 4.</span>\n",
        "<span style=\"font-size: 14pt; font-weight: bold; color: #0098cd;\">Considerando dos grupos de comentarios (odio y no odio) ¿Cuál el número promedio de palabras en los comentarios de cada grupo?</span>"
      ]
    },
    {
      "cell_type": "code",
      "execution_count": null,
      "metadata": {
        "colab": {
          "base_uri": "https://localhost:8080/"
        },
        "id": "qVhd61sYBkmZ",
        "outputId": "35312148-6503-4897-bde3-517c201423b6"
      },
      "outputs": [
        {
          "output_type": "stream",
          "name": "stdout",
          "text": [
            "Promedio de palabras (SIN odio): 119.04\n",
            "Promedio de palabras (CON odio): 14.08\n"
          ]
        }
      ],
      "source": [
        "# Incluye aquí el código generado para poder responder a tu pregunta\n",
        "# Asegurarse de que la columna INTENSIDAD es numérica\n",
        "data[\"INTENSIDAD\"] = pd.to_numeric(data[\"INTENSIDAD\"], errors='coerce')\n",
        "\n",
        "# Separar los dos grupos\n",
        "sin_odio = data[data[\"INTENSIDAD\"] == 0]\n",
        "con_odio = data[data[\"INTENSIDAD\"] > 0]\n",
        "\n",
        "# Tomar muestra del 0.5% en cada grupo\n",
        "muestra_sin_odio = sin_odio.sample(frac=0.005, random_state=42)\n",
        "muestra_con_odio = con_odio.sample(frac=0.005, random_state=42)\n",
        "\n",
        "# Función para contar palabras reales\n",
        "def contar_palabras(muestra):\n",
        "    total = 0\n",
        "    for texto in muestra[\"CONTENIDO A ANALIZAR\"]:\n",
        "        doc = nlp(str(texto))\n",
        "        total += len([token for token in doc if not token.is_punct and not token.is_space])\n",
        "    return total\n",
        "\n",
        "# Conteo por muestra\n",
        "palabras_sin_odio = contar_palabras(muestra_sin_odio)\n",
        "palabras_con_odio = contar_palabras(muestra_con_odio)\n",
        "\n",
        "# Escalar al total del grupo\n",
        "estimado_total_sin_odio = int(palabras_sin_odio * (len(sin_odio) / len(muestra_sin_odio)))\n",
        "estimado_total_con_odio = int(palabras_con_odio * (len(con_odio) / len(muestra_con_odio)))\n",
        "\n",
        "# Promedio por grupo\n",
        "promedio_sin_odio = estimado_total_sin_odio / len(sin_odio)\n",
        "promedio_con_odio = estimado_total_con_odio / len(con_odio)\n",
        "\n",
        "# Mostrar resultados\n",
        "print(f\"Promedio de palabras (SIN odio): {promedio_sin_odio:.2f}\")\n",
        "print(f\"Promedio de palabras (CON odio): {promedio_con_odio:.2f}\")"
      ]
    },
    {
      "cell_type": "markdown",
      "metadata": {
        "id": "n-ZQJKt_BkmZ"
      },
      "source": [
        "<b>Incluye aquí, debajo de la línea, la explicación de tu respuesta</b>\n",
        "<hr>\n",
        "Para responder la pregunta dividí el corpus en do grupos según la columna INTENSIDAD:\n",
        "\n",
        "*   **Con odio** (INTENSIDAD == 0)\n",
        "*   **Sin odio** (INTENSIDAD > 0)\n",
        "\n",
        "Luego, tomé una muestra de 0.5% de cada grupo y usé spaCy para contar solo las palabras reales, es decir sin signos de puntuación y espacios vacios.\n",
        "\n",
        "Para cada grupo:\n",
        "\n",
        "1.   Conté palabras reales.\n",
        "2.   Escalé ese número proporcionalmente al tamáño del grupo.\n",
        "3.   Al final, dividi la cantidad de registros para obtener el promedio de palabras por comentarios.\n",
        "\n",
        "**Reflexión Final:**\n",
        "Algo muy llamativo del análisis es que los comentarios sin odio tienden a ser mucho más largos que los comentarios que expresan odio. Esto tiene sentido, porque muchas expresiones de odio tienden a ser impulsivas, breves y directas mientras que los comentarios que no tienen carga negativa tienden a ser mas argumentativos y explicativos. *Esto puede ser clave para desarrollar sistemas automáticos que detecten contenido tóxico con base en su estructura y extensión.*\n",
        "\n",
        "**Resultado Final:**\n",
        "\n",
        "*   **Promedio de palabras por comentario (SIN odio):** `119.04`  \n",
        "*   **Promedio de palabras por comentario (CON odio):** `14.08`\n",
        "\n"
      ]
    },
    {
      "cell_type": "markdown",
      "metadata": {
        "id": "neK9nAAeBkmZ"
      },
      "source": [
        "<span style=\"font-size: 14pt; font-weight: bold; color: #0098cd;\">Pregunta 5.</span>\n",
        "<span style=\"font-size: 14pt; font-weight: bold; color: #0098cd;\">Considerando dos grupos de comentarios (odio y no odio) ¿Cuál es el número promedio de oraciones en los comentarios de cada grupo?</span>"
      ]
    },
    {
      "cell_type": "code",
      "execution_count": null,
      "metadata": {
        "colab": {
          "base_uri": "https://localhost:8080/"
        },
        "id": "8YLk0EnFBkmZ",
        "outputId": "d144ff45-d171-4ccd-cf71-fcf324297a61"
      },
      "outputs": [
        {
          "output_type": "stream",
          "name": "stdout",
          "text": [
            "Promedio de oraciones (SIN odio): 4.04\n",
            "Promedio de oraciones (CON odio): 1.52\n"
          ]
        }
      ],
      "source": [
        "# Incluye aquí el código generado para poder responder a tu pregunta\n",
        "# Función para contar oraciones en cada muestra\n",
        "def contar_oraciones(muestra):\n",
        "    total = 0\n",
        "    for texto in muestra[\"CONTENIDO A ANALIZAR\"]:\n",
        "        doc = nlp(str(texto))\n",
        "        total += len(list(doc.sents))  # .sents permite contar oraciones detectadas por spaCy\n",
        "    return total\n",
        "\n",
        "# Tomar una muestra del 0.5% de cada grupo\n",
        "muestra_sin_odio = sin_odio.sample(frac=0.005, random_state=42)\n",
        "muestra_con_odio = con_odio.sample(frac=0.005, random_state=42)\n",
        "\n",
        "# Contar oraciones en cada muestra\n",
        "oraciones_sin_odio = contar_oraciones(muestra_sin_odio)\n",
        "oraciones_con_odio = contar_oraciones(muestra_con_odio)\n",
        "\n",
        "# Escalar a los tamaños reales de los grupos\n",
        "estimado_total_oraciones_sin_odio = int(oraciones_sin_odio * (len(sin_odio) / len(muestra_sin_odio)))\n",
        "estimado_total_oraciones_con_odio = int(oraciones_con_odio * (len(con_odio) / len(muestra_con_odio)))\n",
        "\n",
        "# Promedios por grupo\n",
        "promedio_oraciones_sin_odio = estimado_total_oraciones_sin_odio / len(sin_odio)\n",
        "promedio_oraciones_con_odio = estimado_total_oraciones_con_odio / len(con_odio)\n",
        "\n",
        "# Mostrar resultados\n",
        "print(f\"Promedio de oraciones (SIN odio): {promedio_oraciones_sin_odio:.2f}\")\n",
        "print(f\"Promedio de oraciones (CON odio): {promedio_oraciones_con_odio:.2f}\")"
      ]
    },
    {
      "cell_type": "markdown",
      "metadata": {
        "id": "3Fj9AC6GBkmZ"
      },
      "source": [
        "<b>Incluye aquí, debajo de la línea, la explicación de tu respuesta</b>\n",
        "<hr>\n",
        "En esta pregunta traté de averiguar si tambien habia diferencia en la estructura gramatical.\n",
        "\n",
        "Para esto, calculé cuántas oraciones en promedio tiene un comentario con odio vs uno sin odio.\n",
        "\n",
        "- Usé la función `doc.sents` de spaCy, la cual detecta oraciones dentro de un texto de forma automática.\n",
        "- Apliqué esto sobre el mismo tamaño de muestra 0.5% de cada grupo (con y sin odio), y luego escalé los resultados al tamaño real del grupo, igual que en la pregunta anterior.\n",
        "\n",
        "**Reflexión Final**: los mensajes con odio son mucho mas simples, directos y poco desarrollados, mientras que los mensajes sin odio suelen tener un contenido mas elaborado, estructurados y con contexto. *Esto puede ser importante si queremos identificar patrones tóxicos más alla del contenido en si, fijandonos en como se organiza el lenguaje.*\n",
        "\n",
        "**Resultado Final**:\n",
        "- **Promedio de oraciones por comentario (SIN odio):** `4.04`  \n",
        "- **Promedio de oraciones por comentario (CON odio):** `1.52`"
      ]
    },
    {
      "cell_type": "markdown",
      "metadata": {
        "id": "DH8X3BCaBkmZ"
      },
      "source": [
        "<span style=\"font-size: 14pt; font-weight: bold; color: #0098cd;\">Pregunta 6.</span>\n",
        "<span style=\"font-size: 14pt; font-weight: bold; color: #0098cd;\">Considerando dos grupos de comentarios (odio y no odio) ¿Cuál es el porcentaje de comentarios que contienen entidades NER en cada grupo?</span>"
      ]
    },
    {
      "cell_type": "code",
      "execution_count": null,
      "metadata": {
        "colab": {
          "base_uri": "https://localhost:8080/"
        },
        "id": "Q0f79GYFBkma",
        "outputId": "0d5eab18-2cd8-44b6-9843-c0e7d17933c7"
      },
      "outputs": [
        {
          "output_type": "stream",
          "name": "stdout",
          "text": [
            "Porcentaje de comentarios CON entidades (SIN odio): 64.44%\n",
            "Porcentaje de comentarios CON entidades (CON odio): 26.23%\n"
          ]
        }
      ],
      "source": [
        "# Incluye aquí el código generado para poder responder a tu pregunta\n",
        "# Función para contar cuántos comentarios tienen al menos una entidad NER\n",
        "def comentarios_con_entidades(muestra):\n",
        "    con_entidades = 0\n",
        "    for texto in muestra[\"CONTENIDO A ANALIZAR\"]:\n",
        "        doc = nlp(str(texto))\n",
        "        if len(doc.ents) > 0:\n",
        "            con_entidades += 1\n",
        "    return con_entidades\n",
        "\n",
        "# Muestras del 0.5%\n",
        "muestra_sin_odio = sin_odio.sample(frac=0.005, random_state=42)\n",
        "muestra_con_odio = con_odio.sample(frac=0.005, random_state=42)\n",
        "\n",
        "# Conteo de comentarios con entidades\n",
        "con_entidades_sin_odio = comentarios_con_entidades(muestra_sin_odio)\n",
        "con_entidades_con_odio = comentarios_con_entidades(muestra_con_odio)\n",
        "\n",
        "# Cálculo de porcentajes\n",
        "porcentaje_sin_odio = (con_entidades_sin_odio / len(muestra_sin_odio)) * 100\n",
        "porcentaje_con_odio = (con_entidades_con_odio / len(muestra_con_odio)) * 100\n",
        "\n",
        "# Mostrar resultados\n",
        "print(f\"Porcentaje de comentarios CON entidades (SIN odio): {porcentaje_sin_odio:.2f}%\")\n",
        "print(f\"Porcentaje de comentarios CON entidades (CON odio): {porcentaje_con_odio:.2f}%\")"
      ]
    },
    {
      "cell_type": "markdown",
      "metadata": {
        "id": "6D35_coSBkma"
      },
      "source": [
        "<b>Incluye aquí, debajo de la línea, la explicación de tu respuesta</b>\n",
        "<hr>\n",
        "Con esta pregunta quise analizar cuántos comentarios mencionan al menos una entidad reconocible.\n",
        "\n",
        "Para eso:\n",
        "- Tomé una muestra del grupo del 0.5% en cada grupo (con y sin odio).\n",
        "- Procesé cada texto con la ayuda de spaCy y verifiqué si el modelo detecta alguna entidad utilizando `doc.ents`.\n",
        "- Si el comentario tenía al menos una entidad, lo contaba como válido para el cálculo.\n",
        "\n",
        "**Relexión Final:**\n",
        "\n",
        "Es evidente una diferencia clara entre ambos grupos:\n",
        "- En los mensajes **sin odio**, **64.44%** contenían alguna entidad.  \n",
        "- En los mensajes **con odio**, solo **26.23%** lo hicieron.\n",
        "\n",
        "Esto me lleva a pensar que los comentarios sin odio suelen estar mas conectados con hechos, luegares o personas reales.\n",
        "\n",
        "En cambio los mensajes con odio parecen más emocionales, impulsivos y abstractos, sin muchas referencias a contextos concretos. Es decir, el contenido de odio suele apuntar a un ataque directo, no tanto a explicar o contextualizar.\n",
        "\n",
        "**Resultado Final:**\n",
        "- **Porcentaje de comentarios CON entidades (SIN odio):** `64.44%`  \n",
        "- **Porcentaje de comentarios CON entidades (CON odio):** `26.23%`"
      ]
    },
    {
      "cell_type": "markdown",
      "metadata": {
        "id": "KARuYFbZBkma"
      },
      "source": [
        "<span style=\"font-size: 14pt; font-weight: bold; color: #0098cd;\">Pregunta 7.</span>\n",
        "<span style=\"font-size: 14pt; font-weight: bold; color: #0098cd;\">Considerando dos grupos de comentarios (odio y no odio) ¿Cuál es el porcentaje de comentarios que contienen entidades NER de tipo PERSON en cada grupo?</span>"
      ]
    },
    {
      "cell_type": "code",
      "execution_count": null,
      "metadata": {
        "colab": {
          "base_uri": "https://localhost:8080/"
        },
        "id": "3dtwZQrSBkma",
        "outputId": "ed1a7bce-1d71-49a0-cf5e-2935aa9a2522"
      },
      "outputs": [
        {
          "output_type": "stream",
          "name": "stdout",
          "text": [
            "Porcentaje de comentarios que mencionan personas (SIN odio): 30.44%\n",
            "Porcentaje de comentarios que mencionan personas (CON odio): 14.75%\n"
          ]
        }
      ],
      "source": [
        "# Incluye aquí el código generado para poder responder a tu pregunta\n",
        "# Función para contar comentarios que mencionan PERSON\n",
        "def comentarios_con_person(muestra):\n",
        "    con_person = 0\n",
        "    for texto in muestra[\"CONTENIDO A ANALIZAR\"]:\n",
        "        doc = nlp(str(texto))\n",
        "        if any(ent.label_ == \"PER\" or ent.label_ == \"PERSON\" for ent in doc.ents):\n",
        "            con_person += 1\n",
        "    return con_person\n",
        "\n",
        "# Contar por grupo\n",
        "comentarios_person_sin_odio = comentarios_con_person(muestra_sin_odio)\n",
        "comentarios_person_con_odio = comentarios_con_person(muestra_con_odio)\n",
        "\n",
        "# Calcular porcentaje por grupo\n",
        "porcentaje_person_sin_odio = (comentarios_person_sin_odio / len(muestra_sin_odio)) * 100\n",
        "porcentaje_person_con_odio = (comentarios_person_con_odio / len(muestra_con_odio)) * 100\n",
        "\n",
        "# Mostrar resultados\n",
        "print(f\"Porcentaje de comentarios que mencionan personas (SIN odio): {porcentaje_person_sin_odio:.2f}%\")\n",
        "print(f\"Porcentaje de comentarios que mencionan personas (CON odio): {porcentaje_person_con_odio:.2f}%\")"
      ]
    },
    {
      "cell_type": "markdown",
      "metadata": {
        "id": "F2fhXpxRBkmb"
      },
      "source": [
        "<b>Incluye aquí, debajo de la línea, la explicación de tu respuesta</b>\n",
        "<hr>\n",
        "En esta pregunta quise averiguar cuántos comentarios hacen referencia directa a personas (entidades tipo PERSON detectadas por spaCy)\n",
        "\n",
        "Para esto:\n",
        "\n",
        "- Tomé las mismas muestras 0.5% de los grupos con y sin odio.\n",
        "- Revisé cada texto con spaCy para detectar si habia la menos una entidad conla etiqueta PER o PERSON.\n",
        "- Usé una función que cuenta solo aquellos comentarios que mencionan personas, y luego calculé el porcentaje sobre el total de la muestra.\n",
        "\n",
        "\n",
        "**Reflexión Final:**\n",
        "\n",
        "Aquí los resultados volvieron a mostrar una diferencia clara:\n",
        "- **30.44%** de los comentarios sin odio mencionan personas  \n",
        "- Solo **14.75%** de los comentarios con odio lo hacen\n",
        "\n",
        "Esto me ayuda a reforzar la idea de que los mensajes sin odio suelen tener mas contexto y referencias reales, y que los comentarios con odio pueden ser mas genéricos o atacan de forma directa sin siquiera identificar claramente a alguien.\n",
        "También podría argumentar que el lenguaje ofensivo  muchas veces evita usar nombres reales por miedo, anonimato o simplemente por impulsividad.\n",
        "\n",
        "**Resultado Final:**\n",
        "- **Porcentaje de comentarios que mencionan personas (SIN odio):** `30.44%`  \n",
        "- **Porcentaje de comentarios que mencionan personas (CON odio):** `14.75%`"
      ]
    },
    {
      "cell_type": "markdown",
      "metadata": {
        "id": "fdHs1C_7Bkmb"
      },
      "source": [
        "<span style=\"font-size: 14pt; font-weight: bold; color: #0098cd;\">Pregunta 8.</span>\n",
        "<span style=\"font-size: 14pt; font-weight: bold; color: #0098cd;\">Considerando dos grupos de comentarios (odio y no odio) ¿Cuál es el porcentaje de palabras en cada combinación posible de género y número (p.ej. masculino singular) en cada grupo?</span>"
      ]
    },
    {
      "cell_type": "code",
      "execution_count": null,
      "metadata": {
        "colab": {
          "base_uri": "https://localhost:8080/"
        },
        "id": "bDMEo7axBkmb",
        "outputId": "c1ac1fbd-24c0-4064-9d48-55c09c3aa4db"
      },
      "outputs": [
        {
          "output_type": "stream",
          "name": "stdout",
          "text": [
            "Porcentajes por combinación género-número (SIN odio):\n",
            "Masc-Sing: 41.91%\n",
            "Fem-Sing: 32.81%\n",
            "Masc-Plur: 14.96%\n",
            "Fem-Plur: 10.32%\n",
            "\n",
            "Porcentajes por combinación género-número (CON odio):\n",
            "Masc-Sing: 40.51%\n",
            "Fem-Sing: 32.28%\n",
            "Masc-Plur: 19.94%\n",
            "Fem-Plur: 7.28%\n"
          ]
        }
      ],
      "source": [
        "# Incluye aquí el código generado para poder responder a tu pregunta\n",
        "from collections import Counter\n",
        "\n",
        "# Función para contar combinaciones de género y número en una muestra\n",
        "def contar_genero_numero(muestra):\n",
        "    combinaciones = Counter()\n",
        "    total_validos = 0\n",
        "\n",
        "    for texto in muestra[\"CONTENIDO A ANALIZAR\"]:\n",
        "        doc = nlp(str(texto))\n",
        "        for token in doc:\n",
        "            genero = token.morph.get(\"Gender\")\n",
        "            numero = token.morph.get(\"Number\")\n",
        "            if genero and numero:\n",
        "                combinacion = f\"{genero[0]}-{numero[0]}\"  # ej: Masculine-Singular → Masc-Sing\n",
        "                combinaciones[combinacion] += 1\n",
        "                total_validos += 1\n",
        "\n",
        "    # Calcular porcentajes\n",
        "    porcentajes = {\n",
        "        comb: (count / total_validos) * 100\n",
        "        for comb, count in combinaciones.items()\n",
        "    }\n",
        "\n",
        "    return porcentajes\n",
        "\n",
        "# Ejecutar en ambas muestras\n",
        "porcentajes_sin_odio = contar_genero_numero(muestra_sin_odio)\n",
        "porcentajes_con_odio = contar_genero_numero(muestra_con_odio)\n",
        "\n",
        "# Mostrar resultados\n",
        "print(\"Porcentajes por combinación género-número (SIN odio):\")\n",
        "for comb, porcentaje in sorted(porcentajes_sin_odio.items(), key=lambda x: -x[1]):\n",
        "    print(f\"{comb}: {porcentaje:.2f}%\")\n",
        "\n",
        "print(\"\\nPorcentajes por combinación género-número (CON odio):\")\n",
        "for comb, porcentaje in sorted(porcentajes_con_odio.items(), key=lambda x: -x[1]):\n",
        "    print(f\"{comb}: {porcentaje:.2f}%\")"
      ]
    },
    {
      "cell_type": "markdown",
      "metadata": {
        "id": "tlDqWG4qBkmb"
      },
      "source": [
        "<b>Incluye aquí, debajo de la línea, la explicación de tu respuesta</b>\n",
        "<hr>\n",
        "En esta pregunta quise analizar cómo varían las combinaciones de género y número gramatical (masculino/femenino, singular/plural) en los comentarios con y sin odio.\n",
        "\n",
        "Para lograrlo:\n",
        "- Procesé una muestra del 0.5% de cada grupo.\n",
        "- Usé spaCy para extraer los atributos `Gender` y `Number` de cada palabra (token).\n",
        "- Luego conté todas las combinaciones válidas (ej. `Masc-Sing`, `Fem-Plur`, etc.) y calculé sus porcentajes dentro del grupo.\n",
        "\n",
        "\n",
        "**Reflexión Final:**\n",
        "\n",
        "Me pareció interesante que, aunque ambas distribuciones son similares, en los comentarios con odio el uso de **masculino plural aumenta notablemente**, mientras que el **femenino plural disminuye**.\n",
        "\n",
        "Esto podría indicar una tendencia a usar **expresiones generales o estereotipos dirigidos a colectivos** (como “extranjeros”, “migrantes”, “ellos”, “invasores”, etc.), lo cual es muy común en mensajes con carga de odio.\n",
        "\n",
        "Además, este tipo de análisis morfosintáctico puede ser útil si en el futuro se quisiera construir un modelo que identifique este tipo de patrones lingüísticos como indicadores tempranos de discurso tóxico (útil para mi TFM).\n",
        "\n",
        "**Resultado Final:**\n",
        "\n",
        "**En comentarios SIN odio:**\n",
        "- Masculino singular: `41.91%`\n",
        "- Femenino singular: `32.81%`\n",
        "- Masculino plural: `14.96%`\n",
        "- Femenino plural: `10.32%`\n",
        "\n",
        "**En comentarios CON odio:**\n",
        "- Masculino singular: `40.51%`\n",
        "- Femenino singular: `32.28%`\n",
        "- Masculino plural: `19.94%`\n",
        "- Femenino plural: `7.28%`"
      ]
    },
    {
      "cell_type": "markdown",
      "metadata": {
        "id": "43m5L4XuBkmb"
      },
      "source": [
        "<span style=\"font-size: 14pt; font-weight: bold; color: #0098cd;\">Pregunta 9.</span>\n",
        "<span style=\"font-size: 14pt; font-weight: bold; color: #0098cd;\">Considerando dos grupos de comentarios (odio y no odio), indica cuántas entidades de cada tipo posible se reconocen en cada uno de los grupos</span>"
      ]
    },
    {
      "cell_type": "code",
      "execution_count": null,
      "metadata": {
        "colab": {
          "base_uri": "https://localhost:8080/"
        },
        "id": "c_54G0N7Bkmc",
        "outputId": "3e16a84b-9ea1-44db-988b-5b0fe3543af2"
      },
      "outputs": [
        {
          "output_type": "stream",
          "name": "stdout",
          "text": [
            "Entidades reconocidas (SIN odio):\n",
            "LOC: 4053\n",
            "PER: 3729\n",
            "MISC: 2413\n",
            "ORG: 1437\n",
            "\n",
            "Entidades reconocidas (CON odio):\n",
            "PER: 10\n",
            "MISC: 4\n",
            "LOC: 4\n",
            "ORG: 3\n"
          ]
        }
      ],
      "source": [
        "# Incluye aquí el código generado para poder responder a tu pregunta\n",
        "from collections import Counter\n",
        "\n",
        "# Función para contar tipos de entidades en una muestra\n",
        "def contar_tipos_entidades(muestra):\n",
        "    contador = Counter()\n",
        "    for texto in muestra[\"CONTENIDO A ANALIZAR\"]:\n",
        "        doc = nlp(str(texto))\n",
        "        for ent in doc.ents:\n",
        "            contador[ent.label_] += 1\n",
        "    return contador\n",
        "\n",
        "# Aplicar función a cada grupo\n",
        "entidades_sin_odio = contar_tipos_entidades(muestra_sin_odio)\n",
        "entidades_con_odio = contar_tipos_entidades(muestra_con_odio)\n",
        "\n",
        "# Mostrar resultados ordenados por cantidad\n",
        "print(\"Entidades reconocidas (SIN odio):\")\n",
        "for tipo, cantidad in entidades_sin_odio.most_common():\n",
        "    print(f\"{tipo}: {cantidad}\")\n",
        "\n",
        "print(\"\\nEntidades reconocidas (CON odio):\")\n",
        "for tipo, cantidad in entidades_con_odio.most_common():\n",
        "    print(f\"{tipo}: {cantidad}\")"
      ]
    },
    {
      "cell_type": "markdown",
      "metadata": {
        "id": "BpkbZ9N-Bkmc"
      },
      "source": [
        "<b>Incluye aquí, debajo de la línea, la explicación de tu respuesta</b>\n",
        "<hr>\n",
        "En esta pregunta quería saber cuántas entidades reconocidas por spaCy aparecían en los comentarios, clasificadas por tipo:\n",
        "\n",
        "- `PER` (personas)  \n",
        "- `LOC` (lugares)  \n",
        "- `ORG` (organizaciones)  \n",
        "- `MISC` (otras)\n",
        "\n",
        "Para esto:\n",
        "- Procesé una muestra del 0.5% en cada grupo\n",
        "- Conté cuántas veces aparecía cada tipo de entidad usando `doc.ents` en spaCy\n",
        "- Luego agrupé y ordené los resultados por frecuencia\n",
        "\n",
        "**Reflexión Final:**\n",
        "\n",
        "La diferencia es muy clara. En los comentarios **sin odio** se hace referencia constante a personas, lugares, organizaciones, etc., lo cual indica que son **más informativos, contextuales y conectados con la realidad**.\n",
        "\n",
        "En cambio, los mensajes **con odio apenas contienen entidades**. Esto refuerza lo que ya veníamos viendo: los comentarios con odio suelen ser **más cortos, menos estructurados y cargados de emoción más que de hechos concretos**.\n",
        "\n",
        "Esto me hace pensar que los mensajes sin odio son más argumentativos, mientras que los mensajes con odio son más impulsivos o genéricos, lo cual también puede ser una pista útil en tareas de detección automática.\n",
        "\n",
        "\n",
        "**Resultado Final:**\n",
        "\n",
        "**En comentarios SIN odio:**\n",
        "- `LOC`: 4.053 (lugares)\n",
        "- `PER`: 3.729 (personas)\n",
        "- `MISC`: 2.413\n",
        "- `ORG`: 1.437 (organizaciones)\n",
        "\n",
        "**En comentarios CON odio:**\n",
        "- `PER`: 10\n",
        "- `MISC`: 4\n",
        "- `LOC`: 4\n",
        "- `ORG`: 3"
      ]
    },
    {
      "cell_type": "markdown",
      "metadata": {
        "id": "Qy9kGAFrBkmc"
      },
      "source": [
        "<span style=\"font-size: 14pt; font-weight: bold; color: #0098cd;\">Pregunta 10.</span>\n",
        "<span style=\"font-size: 14pt; font-weight: bold; color: #0098cd;\">Considerando dos grupos de comentarios (odio y no odio), extrae y muestra los 100 lemas más repetidos en los comentarios de cada grupo</span>"
      ]
    },
    {
      "cell_type": "code",
      "execution_count": null,
      "metadata": {
        "colab": {
          "base_uri": "https://localhost:8080/"
        },
        "id": "umUzwZPzBkmc",
        "outputId": "0ca3a735-fda2-4e48-8f22-42a573567ea0"
      },
      "outputs": [
        {
          "output_type": "stream",
          "name": "stdout",
          "text": [
            "Top 100 lemas más repetidos (SIN odio):\n",
            "n: 731\n",
            "s: 689\n",
            "tambiã: 607\n",
            "estã: 547\n",
            "gobierno: 458\n",
            "persona: 431\n",
            "caso: 372\n",
            "ã: 345\n",
            "euros: 339\n",
            "segãºn: 304\n",
            "madrid: 289\n",
            "millón: 287\n",
            "pãºblico: 274\n",
            "hora: 272\n",
            "comunidad: 250\n",
            "despuã: 242\n",
            "grupo: 241\n",
            "â: 238\n",
            "partido: 236\n",
            "momento: 233\n",
            "llegar: 232\n",
            "vida: 229\n",
            "tiempo: 227\n",
            "ãºltimo: 226\n",
            "mes: 223\n",
            "centro: 223\n",
            "ver: 221\n",
            "poner: 220\n",
            "social: 218\n",
            "mundo: 211\n",
            "semana: 208\n",
            "quã: 206\n",
            "medida: 204\n",
            "seguir: 201\n",
            "dejar: 197\n",
            "explicar: 194\n",
            "pp: 193\n",
            "casa: 192\n",
            "pandemia: 189\n",
            "portada: 188\n",
            "rt: 187\n",
            "trabajo: 187\n",
            "poder: 183\n",
            "i: 179\n",
            "servicio: 178\n",
            "forma: 177\n",
            "pasar: 171\n",
            "presidente: 168\n",
            "punto: 166\n",
            "general: 163\n",
            "mantener: 162\n",
            "equipo: 156\n",
            "recordar: 155\n",
            "pedir: 154\n",
            "vacuna: 153\n",
            "tener: 153\n",
            "l: 153\n",
            "serã: 149\n",
            "empresa: 149\n",
            "cosa: 148\n",
            "gente: 148\n",
            "lugar: 146\n",
            "quedar: 146\n",
            "haber: 145\n",
            "querer: 145\n",
            "familia: 145\n",
            "nãºmero: 144\n",
            "salir: 144\n",
            "mujer: 143\n",
            "derecho: 141\n",
            "problema: 141\n",
            "nacional: 141\n",
            "recibir: 140\n",
            "nivel: 138\n",
            "ir: 138\n",
            "trabajar: 137\n",
            "ley: 137\n",
            "plan: 137\n",
            "salud: 134\n",
            "zona: 134\n",
            "hombre: 134\n",
            "alto: 132\n",
            "permitir: 132\n",
            "mã: 132\n",
            "sistema: 132\n",
            "actividad: 131\n",
            "volver: 131\n",
            "travã: 131\n",
            "menor: 130\n",
            "dosis: 130\n",
            "ciudad: 129\n",
            "encontrar: 129\n",
            "objetivo: 129\n",
            "esperar: 128\n",
            "frente: 128\n",
            "hospital: 127\n",
            "historia: 124\n",
            "cambio: 122\n",
            "vivir: 122\n",
            "llevar: 122\n",
            "\n",
            "Top 100 lemas más repetidos (CON odio):\n",
            "puta: 4\n",
            "gente: 3\n",
            "vida: 3\n",
            "tonto: 3\n",
            "asco: 3\n",
            "acabar: 3\n",
            "imbã: 3\n",
            "cil: 3\n",
            "jeta: 3\n",
            "n: 2\n",
            "tanto: 2\n",
            "caso: 2\n",
            "comentario: 2\n",
            "tãº: 2\n",
            "mariconazo: 2\n",
            "sitio: 2\n",
            "mundo: 2\n",
            "hombre: 2\n",
            "ultraortodoxo: 2\n",
            "haber: 2\n",
            "persona: 2\n",
            "asesino: 2\n",
            "putir: 2\n",
            "propaganda: 2\n",
            "fascista: 2\n",
            "feo: 2\n",
            "almeido: 2\n",
            "madre: 2\n",
            "hdp: 2\n",
            "harto: 2\n",
            "mariconada: 2\n",
            "promover: 2\n",
            "ã: 2\n",
            "mentiroso: 2\n",
            "pais: 2\n",
            "problema: 2\n",
            "seleccionar: 1\n",
            "portento: 1\n",
            "pp: 1\n",
            "mandar: 1\n",
            "presidir: 1\n",
            "vicepresidir: 1\n",
            "comunidad: 1\n",
            "madrid: 1\n",
            "querer: 1\n",
            "seguir: 1\n",
            "masoquista: 1\n",
            "quã: 1\n",
            "malo: 1\n",
            "beneficier: 1\n",
            "toleremos: 1\n",
            "inmundicia: 1\n",
            "gentuza: 1\n",
            "â: 1\n",
            "sanchez: 1\n",
            "consciente: 1\n",
            "podrã: 1\n",
            "ninigãºn: 1\n",
            "publico: 1\n",
            "recibir: 1\n",
            "insulto: 1\n",
            "desprecio: 1\n",
            "comportamiento: 1\n",
            "soberbio: 1\n",
            "impedir: 1\n",
            "estã: 1\n",
            "sentir: 1\n",
            "lastima: 1\n",
            "futuro: 1\n",
            "miserable: 1\n",
            "par: 1\n",
            "hps: 1\n",
            "panfleto: 1\n",
            "sostenedor: 1\n",
            "ultraderechs: 1\n",
            "sinverguenza: 1\n",
            "arruinar: 1\n",
            "sector: 1\n",
            "semejante: 1\n",
            "gobernar: 1\n",
            "ciento: 1\n",
            "ser: 1\n",
            "querido: 1\n",
            "calle: 1\n",
            "ojala: 1\n",
            "llegar: 1\n",
            "broma: 1\n",
            "repugnante: 1\n",
            "inmoral: 1\n",
            "servir: 1\n",
            "terrorista: 1\n",
            "bruja: 1\n",
            "avaricia: 1\n",
            "valiente: 1\n",
            "anciano: 1\n",
            "cobardes: 1\n",
            "conocer: 1\n",
            "ningãºn: 1\n",
            "puto: 1\n",
            "amargado: 1\n"
          ]
        }
      ],
      "source": [
        "# Incluye aquí el código generado para poder responder a tu pregunta\n",
        "from collections import Counter\n",
        "\n",
        "# Función para extraer y contar lemas\n",
        "def lemas_mas_frecuentes(muestra, top_n=100):\n",
        "    todos_los_lemas = []\n",
        "    for texto in muestra[\"CONTENIDO A ANALIZAR\"]:\n",
        "        doc = nlp(str(texto))\n",
        "        lemas = [token.lemma_.lower() for token in doc if token.is_alpha and not token.is_stop]\n",
        "        todos_los_lemas.extend(lemas)\n",
        "    return Counter(todos_los_lemas).most_common(top_n)\n",
        "\n",
        "# Obtener lemas más frecuentes por grupo\n",
        "lemas_sin_odio = lemas_mas_frecuentes(muestra_sin_odio)\n",
        "lemas_con_odio = lemas_mas_frecuentes(muestra_con_odio)\n",
        "\n",
        "# Mostrar resultados\n",
        "print(\"Top 100 lemas más repetidos (SIN odio):\")\n",
        "for lema, frecuencia in lemas_sin_odio:\n",
        "    print(f\"{lema}: {frecuencia}\")\n",
        "\n",
        "print(\"\\nTop 100 lemas más repetidos (CON odio):\")\n",
        "for lema, frecuencia in lemas_con_odio:\n",
        "    print(f\"{lema}: {frecuencia}\")"
      ]
    },
    {
      "cell_type": "markdown",
      "metadata": {
        "id": "Nt8-m_3yBkmc"
      },
      "source": [
        "<b>Incluye aquí, debajo de la línea, la explicación de tu respuesta</b>\n",
        "<hr>\n",
        "Para esta pregunta analicé los **100 lemas más repetidos** (formas base de las palabras) en cada grupo: con y sin odio.\n",
        "\n",
        "Lo que hice fue:\n",
        "- Procesar una muestra del 0.5% por grupo con spaCy\n",
        "- Extraer solo lemas que fueran palabras reales (`is_alpha`) y que no fueran stopwords (`is_stop`)\n",
        "- Contar cuántas veces aparecía cada lema y ordenar los 100 más frecuentes por grupo\n",
        "\n",
        "\n",
        "**Reflexión Final:**\n",
        "\n",
        "La diferencia es muy marcada:\n",
        "\n",
        "- **Los comentarios sin odio** reflejan una intención de **informar o reflexionar**, con palabras relacionadas con temas reales, noticias, contexto social o sanitario.\n",
        "- **Los comentarios con odio**, en cambio, son **más emocionales, agresivos y simplificados**, usando insultos, generalizaciones o términos cargados de negatividad.\n",
        "\n",
        "Esto demuestra cómo el lenguaje se transforma no solo en su contenido, sino también en **su base gramatical y lexical**.  \n",
        "Y esto puede ser muy útil para identificar patrones automáticos de contenido tóxico.\n",
        "\n",
        "\n",
        "**Conclusión:**\n",
        "Este análisis de lemas sirve como un termómetro del tipo de lenguaje predominante en cada grupo.  \n",
        "A través de los lemas, se evidencia que los mensajes con odio tienen un vocabulario **mucho más limitado, ofensivo y menos informativo**.\n",
        "<hr>\n",
        "\n",
        "**Resultado Final (Resumen):**\n",
        "\n",
        "**En comentarios SIN odio**, los lemas más frecuentes estaban relacionados con:\n",
        "- Tópicos sociales o políticos: `gobierno`, `persona`, `partido`, `comunidad`, `ley`, `presidente`\n",
        "- Salud y pandemia: `vacuna`, `hospital`, `salud`, `pandemia`, `dosis`\n",
        "- Tiempos, lugares y acciones generales: `mundo`, `vida`, `tiempo`, `ver`, `seguir`, `trabajo`\n",
        "\n",
        "**En comentarios CON odio**, los lemas más frecuentes fueron palabras:\n",
        "- Ofensivas o insultantes: `puta`, `tonto`, `asco`, `hdp`, `mentiroso`, `fascista`, `mariconazo`\n",
        "- Negativas y emocionales: `odio`, `desprecio`, `inmoral`, `harto`, `terrorista`, `cobardes`\n",
        "- A veces distorsionadas o mal escritas (errores de codificación): como `imbã`, `â`, `ãº`"
      ]
    },
    {
      "cell_type": "markdown",
      "metadata": {
        "id": "Nlp5TqSrBkmd"
      },
      "source": [
        "<span style=\"font-size: 14pt; font-weight: bold; color: #0098cd;\">Pregunta 11.</span>\n",
        "<span style=\"font-size: 14pt; font-weight: bold; color: #0098cd;\">¿Es posible utilizar alguna de las características extraídas en las preguntas anteriores para determinar si un mensaje contiene odio? Justifica tu respuesta con el análisis estadístico que consideres necesario.</span>"
      ]
    },
    {
      "cell_type": "code",
      "execution_count": null,
      "metadata": {
        "colab": {
          "base_uri": "https://localhost:8080/"
        },
        "id": "lLptKcvwBkmd",
        "outputId": "1b514a3a-1dbc-45d0-9872-5d805d9287d8"
      },
      "outputs": [
        {
          "output_type": "stream",
          "name": "stdout",
          "text": [
            "Promedio de palabras por comentario (SIN odio): 119.04\n",
            "Promedio de palabras por comentario (CON odio): 14.08\n",
            "Promedio de oraciones por comentario (SIN odio): 4.04\n",
            "Promedio de oraciones por comentario (CON odio): 1.52\n",
            "Porcentaje de comentarios con entidades NER (SIN odio): 64.44%\n",
            "Porcentaje de comentarios con entidades NER (CON odio): 26.23%\n",
            "Porcentaje de comentarios con entidad PERSON (SIN odio): 30.44%\n",
            "Porcentaje de comentarios con entidad PERSON (CON odio): 14.75%\n"
          ]
        }
      ],
      "source": [
        "# Incluye aquí el código generado para poder responder a tu pregunta\n",
        "# Resumen estadístico simplificado para apoyar la conclusión\n",
        "\n",
        "print(f\"Promedio de palabras por comentario (SIN odio): {promedio_sin_odio:.2f}\")\n",
        "print(f\"Promedio de palabras por comentario (CON odio): {promedio_con_odio:.2f}\")\n",
        "\n",
        "print(f\"Promedio de oraciones por comentario (SIN odio): {promedio_oraciones_sin_odio:.2f}\")\n",
        "print(f\"Promedio de oraciones por comentario (CON odio): {promedio_oraciones_con_odio:.2f}\")\n",
        "\n",
        "print(f\"Porcentaje de comentarios con entidades NER (SIN odio): {porcentaje_sin_odio:.2f}%\")\n",
        "print(f\"Porcentaje de comentarios con entidades NER (CON odio): {porcentaje_con_odio:.2f}%\")\n",
        "\n",
        "print(f\"Porcentaje de comentarios con entidad PERSON (SIN odio): {porcentaje_person_sin_odio:.2f}%\")\n",
        "print(f\"Porcentaje de comentarios con entidad PERSON (CON odio): {porcentaje_person_con_odio:.2f}%\")"
      ]
    },
    {
      "cell_type": "code",
      "source": [
        "# Cálculo de diferencias relativas (en porcentaje)\n",
        "def dif_rel(val1, val2):\n",
        "    return ((val1 - val2) / val1) * 100\n",
        "\n",
        "print(\"🧪 Comparativa entre grupos:\")\n",
        "\n",
        "dif_palabras = dif_rel(promedio_sin_odio, promedio_con_odio)\n",
        "print(f\"Diferencia relativa en palabras promedio: {dif_palabras:.2f}%\")\n",
        "\n",
        "dif_oraciones = dif_rel(promedio_oraciones_sin_odio, promedio_oraciones_con_odio)\n",
        "print(f\"Diferencia relativa en oraciones promedio: {dif_oraciones:.2f}%\")\n",
        "\n",
        "dif_ner = dif_rel(porcentaje_sin_odio, porcentaje_con_odio)\n",
        "print(f\"Diferencia relativa en comentarios con entidades NER: {dif_ner:.2f}%\")\n",
        "\n",
        "dif_person = dif_rel(porcentaje_person_sin_odio, porcentaje_person_con_odio)\n",
        "print(f\"Diferencia relativa en menciones a PERSON: {dif_person:.2f}%\")"
      ],
      "metadata": {
        "colab": {
          "base_uri": "https://localhost:8080/"
        },
        "id": "CI-4AvqHV8DF",
        "outputId": "57d573a8-3214-4b42-84b5-a65f06c3a9d7"
      },
      "execution_count": null,
      "outputs": [
        {
          "output_type": "stream",
          "name": "stdout",
          "text": [
            "🧪 Comparativa entre grupos:\n",
            "Diferencia relativa en palabras promedio: 88.17%\n",
            "Diferencia relativa en oraciones promedio: 62.26%\n",
            "Diferencia relativa en comentarios con entidades NER: 59.30%\n",
            "Diferencia relativa en menciones a PERSON: 51.53%\n"
          ]
        }
      ]
    },
    {
      "cell_type": "markdown",
      "metadata": {
        "id": "bVvrtDpwBkmd"
      },
      "source": [
        "<b>Incluye aquí, debajo de la línea, la explicación de tu respuesta</b>\n",
        "<hr>\n",
        "Sí, es posible utilizar varias de las características extraídas en este análisis para determinar si un mensaje contiene odio.\n",
        "\n",
        "Para justificarlo, realicé una comparación estadística entre los comentarios con y sin odio, evaluando variables como:\n",
        "\n",
        "- Longitud promedio (palabras y oraciones)\n",
        "- Presencia de entidades NER\n",
        "- Menciones específicas a personas (`PERSON`)\n",
        "\n",
        "Los resultados mostraron diferencias muy significativas:\n",
        "\n",
        "📊 **Diferencias relativas entre grupos:**\n",
        "- Palabras por comentario: `88.17%` menos en los mensajes con odio  \n",
        "- Oraciones por comentario: `62.26%` menos  \n",
        "- Comentarios con entidades NER: `59.30%` menos  \n",
        "- Menciones a personas (PERSON): `51.53%` menos\n",
        "\n",
        "Esto sugiere un patrón claro:  \n",
        "👉 Los mensajes con odio son más breves, menos estructurados, y menos referenciales.  \n",
        "👉 Los mensajes sin odio son más contextuales, informativos y gramaticalmente más ricos.\n",
        "\n",
        "---\n",
        "\n",
        "#✅ Conclusión final\n",
        "\n",
        "Este análisis demuestra que sí es posible construir **modelos predictivos** usando estas variables.  \n",
        "Las diferencias superan el 50% en todas las métricas clave, lo cual refuerza su utilidad como **features de clasificación** en tareas de PLN.\n",
        "\n",
        "Pero más allá del aspecto técnico, esto también deja una enseñanza social:  \n",
        "💡 La forma en que usamos el lenguaje dice mucho sobre la intención detrás del mensaje.  \n",
        "Y con la ayuda de la inteligencia artificial, podemos comenzar a **entender y prevenir** el discurso de odio en los entornos digitales, promoviendo espacios más sanos y respetuosos para todos."
      ]
    }
  ],
  "metadata": {
    "kernelspec": {
      "display_name": "Python 3 (ipykernel)",
      "language": "python",
      "name": "python3"
    },
    "language_info": {
      "codemirror_mode": {
        "name": "ipython",
        "version": 3
      },
      "file_extension": ".py",
      "mimetype": "text/x-python",
      "name": "python",
      "nbconvert_exporter": "python",
      "pygments_lexer": "ipython3",
      "version": "3.11.5"
    },
    "colab": {
      "provenance": [],
      "include_colab_link": true
    }
  },
  "nbformat": 4,
  "nbformat_minor": 0
}